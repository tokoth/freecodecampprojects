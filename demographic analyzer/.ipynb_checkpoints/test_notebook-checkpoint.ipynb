{
 "cells": [
  {
   "cell_type": "code",
   "execution_count": 1,
   "id": "aacb71fa-96e4-446a-8e17-80b50e1e3d81",
   "metadata": {},
   "outputs": [],
   "source": [
    "import pandas as pd"
   ]
  },
  {
   "cell_type": "code",
   "execution_count": 2,
   "id": "e0110bb7-d7df-4036-b437-404f15395ca2",
   "metadata": {},
   "outputs": [
    {
     "data": {
      "text/html": [
       "<div>\n",
       "<style scoped>\n",
       "    .dataframe tbody tr th:only-of-type {\n",
       "        vertical-align: middle;\n",
       "    }\n",
       "\n",
       "    .dataframe tbody tr th {\n",
       "        vertical-align: top;\n",
       "    }\n",
       "\n",
       "    .dataframe thead th {\n",
       "        text-align: right;\n",
       "    }\n",
       "</style>\n",
       "<table border=\"1\" class=\"dataframe\">\n",
       "  <thead>\n",
       "    <tr style=\"text-align: right;\">\n",
       "      <th></th>\n",
       "      <th>age</th>\n",
       "      <th>workclass</th>\n",
       "      <th>fnlwgt</th>\n",
       "      <th>education</th>\n",
       "      <th>education-num</th>\n",
       "      <th>marital-status</th>\n",
       "      <th>occupation</th>\n",
       "      <th>relationship</th>\n",
       "      <th>race</th>\n",
       "      <th>sex</th>\n",
       "      <th>capital-gain</th>\n",
       "      <th>capital-loss</th>\n",
       "      <th>hours-per-week</th>\n",
       "      <th>native-country</th>\n",
       "      <th>salary</th>\n",
       "    </tr>\n",
       "  </thead>\n",
       "  <tbody>\n",
       "    <tr>\n",
       "      <th>0</th>\n",
       "      <td>39</td>\n",
       "      <td>State-gov</td>\n",
       "      <td>77516</td>\n",
       "      <td>Bachelors</td>\n",
       "      <td>13</td>\n",
       "      <td>Never-married</td>\n",
       "      <td>Adm-clerical</td>\n",
       "      <td>Not-in-family</td>\n",
       "      <td>White</td>\n",
       "      <td>Male</td>\n",
       "      <td>2174</td>\n",
       "      <td>0</td>\n",
       "      <td>40</td>\n",
       "      <td>United-States</td>\n",
       "      <td>&lt;=50K</td>\n",
       "    </tr>\n",
       "    <tr>\n",
       "      <th>1</th>\n",
       "      <td>50</td>\n",
       "      <td>Self-emp-not-inc</td>\n",
       "      <td>83311</td>\n",
       "      <td>Bachelors</td>\n",
       "      <td>13</td>\n",
       "      <td>Married-civ-spouse</td>\n",
       "      <td>Exec-managerial</td>\n",
       "      <td>Husband</td>\n",
       "      <td>White</td>\n",
       "      <td>Male</td>\n",
       "      <td>0</td>\n",
       "      <td>0</td>\n",
       "      <td>13</td>\n",
       "      <td>United-States</td>\n",
       "      <td>&lt;=50K</td>\n",
       "    </tr>\n",
       "    <tr>\n",
       "      <th>2</th>\n",
       "      <td>38</td>\n",
       "      <td>Private</td>\n",
       "      <td>215646</td>\n",
       "      <td>HS-grad</td>\n",
       "      <td>9</td>\n",
       "      <td>Divorced</td>\n",
       "      <td>Handlers-cleaners</td>\n",
       "      <td>Not-in-family</td>\n",
       "      <td>White</td>\n",
       "      <td>Male</td>\n",
       "      <td>0</td>\n",
       "      <td>0</td>\n",
       "      <td>40</td>\n",
       "      <td>United-States</td>\n",
       "      <td>&lt;=50K</td>\n",
       "    </tr>\n",
       "    <tr>\n",
       "      <th>3</th>\n",
       "      <td>53</td>\n",
       "      <td>Private</td>\n",
       "      <td>234721</td>\n",
       "      <td>11th</td>\n",
       "      <td>7</td>\n",
       "      <td>Married-civ-spouse</td>\n",
       "      <td>Handlers-cleaners</td>\n",
       "      <td>Husband</td>\n",
       "      <td>Black</td>\n",
       "      <td>Male</td>\n",
       "      <td>0</td>\n",
       "      <td>0</td>\n",
       "      <td>40</td>\n",
       "      <td>United-States</td>\n",
       "      <td>&lt;=50K</td>\n",
       "    </tr>\n",
       "    <tr>\n",
       "      <th>4</th>\n",
       "      <td>28</td>\n",
       "      <td>Private</td>\n",
       "      <td>338409</td>\n",
       "      <td>Bachelors</td>\n",
       "      <td>13</td>\n",
       "      <td>Married-civ-spouse</td>\n",
       "      <td>Prof-specialty</td>\n",
       "      <td>Wife</td>\n",
       "      <td>Black</td>\n",
       "      <td>Female</td>\n",
       "      <td>0</td>\n",
       "      <td>0</td>\n",
       "      <td>40</td>\n",
       "      <td>Cuba</td>\n",
       "      <td>&lt;=50K</td>\n",
       "    </tr>\n",
       "  </tbody>\n",
       "</table>\n",
       "</div>"
      ],
      "text/plain": [
       "   age         workclass  fnlwgt  education  education-num  \\\n",
       "0   39         State-gov   77516  Bachelors             13   \n",
       "1   50  Self-emp-not-inc   83311  Bachelors             13   \n",
       "2   38           Private  215646    HS-grad              9   \n",
       "3   53           Private  234721       11th              7   \n",
       "4   28           Private  338409  Bachelors             13   \n",
       "\n",
       "       marital-status         occupation   relationship   race     sex  \\\n",
       "0       Never-married       Adm-clerical  Not-in-family  White    Male   \n",
       "1  Married-civ-spouse    Exec-managerial        Husband  White    Male   \n",
       "2            Divorced  Handlers-cleaners  Not-in-family  White    Male   \n",
       "3  Married-civ-spouse  Handlers-cleaners        Husband  Black    Male   \n",
       "4  Married-civ-spouse     Prof-specialty           Wife  Black  Female   \n",
       "\n",
       "   capital-gain  capital-loss  hours-per-week native-country salary  \n",
       "0          2174             0              40  United-States  <=50K  \n",
       "1             0             0              13  United-States  <=50K  \n",
       "2             0             0              40  United-States  <=50K  \n",
       "3             0             0              40  United-States  <=50K  \n",
       "4             0             0              40           Cuba  <=50K  "
      ]
     },
     "execution_count": 2,
     "metadata": {},
     "output_type": "execute_result"
    }
   ],
   "source": [
    "df = pd.read_csv(r'./adult.data.csv')\n",
    "df.head()"
   ]
  },
  {
   "cell_type": "code",
   "execution_count": 7,
   "id": "7e50b6e7-26ec-4092-a945-30006d3b8bba",
   "metadata": {
    "collapsed": true,
    "jupyter": {
     "outputs_hidden": true
    },
    "tags": []
   },
   "outputs": [
    {
     "data": {
      "text/plain": [
       "United-States                 29170\n",
       "Mexico                          643\n",
       "?                               583\n",
       "Philippines                     198\n",
       "Germany                         137\n",
       "Canada                          121\n",
       "Puerto-Rico                     114\n",
       "El-Salvador                     106\n",
       "India                           100\n",
       "Cuba                             95\n",
       "England                          90\n",
       "Jamaica                          81\n",
       "South                            80\n",
       "China                            75\n",
       "Italy                            73\n",
       "Dominican-Republic               70\n",
       "Vietnam                          67\n",
       "Guatemala                        64\n",
       "Japan                            62\n",
       "Poland                           60\n",
       "Columbia                         59\n",
       "Taiwan                           51\n",
       "Haiti                            44\n",
       "Iran                             43\n",
       "Portugal                         37\n",
       "Nicaragua                        34\n",
       "Peru                             31\n",
       "France                           29\n",
       "Greece                           29\n",
       "Ecuador                          28\n",
       "Ireland                          24\n",
       "Hong                             20\n",
       "Cambodia                         19\n",
       "Trinadad&Tobago                  19\n",
       "Laos                             18\n",
       "Thailand                         18\n",
       "Yugoslavia                       16\n",
       "Outlying-US(Guam-USVI-etc)       14\n",
       "Honduras                         13\n",
       "Hungary                          13\n",
       "Scotland                         12\n",
       "Holand-Netherlands                1\n",
       "Name: native-country, dtype: int64"
      ]
     },
     "execution_count": 7,
     "metadata": {},
     "output_type": "execute_result"
    }
   ],
   "source": [
    "df7 = df['native-country'].value_counts()\n",
    "df7"
   ]
  },
  {
   "cell_type": "code",
   "execution_count": 9,
   "id": "dd8d01ec-69d4-4a27-a285-94f1eec77d03",
   "metadata": {
    "tags": []
   },
   "outputs": [
    {
     "data": {
      "text/plain": [
       "?                             25.0\n",
       "Cambodia                      36.8\n",
       "Canada                        32.2\n",
       "China                         26.7\n",
       "Columbia                       3.4\n",
       "Cuba                          26.3\n",
       "Dominican-Republic             2.9\n",
       "Ecuador                       14.3\n",
       "El-Salvador                    8.5\n",
       "England                       33.3\n",
       "France                        41.4\n",
       "Germany                       32.1\n",
       "Greece                        27.6\n",
       "Guatemala                      4.7\n",
       "Haiti                          9.1\n",
       "Holand-Netherlands             NaN\n",
       "Honduras                       7.7\n",
       "Hong                          30.0\n",
       "Hungary                       23.1\n",
       "India                         40.0\n",
       "Iran                          41.9\n",
       "Ireland                       20.8\n",
       "Italy                         34.2\n",
       "Jamaica                       12.3\n",
       "Japan                         38.7\n",
       "Laos                          11.1\n",
       "Mexico                         5.1\n",
       "Nicaragua                      5.9\n",
       "Outlying-US(Guam-USVI-etc)     NaN\n",
       "Peru                           6.5\n",
       "Philippines                   30.8\n",
       "Poland                        20.0\n",
       "Portugal                      10.8\n",
       "Puerto-Rico                   10.5\n",
       "Scotland                      25.0\n",
       "South                         20.0\n",
       "Taiwan                        39.2\n",
       "Thailand                      16.7\n",
       "Trinadad&Tobago               10.5\n",
       "United-States                 24.6\n",
       "Vietnam                        7.5\n",
       "Yugoslavia                    37.5\n",
       "Name: native-country, dtype: float64"
      ]
     },
     "execution_count": 9,
     "metadata": {},
     "output_type": "execute_result"
    }
   ],
   "source": [
    "df8 = round((df4/df7 *100), 1)\n",
    "df8"
   ]
  },
  {
   "cell_type": "code",
   "execution_count": 18,
   "id": "c9c101d1-4b25-4721-97b9-5b88e154c1d2",
   "metadata": {},
   "outputs": [
    {
     "data": {
      "text/plain": [
       "'Iran'"
      ]
     },
     "execution_count": 18,
     "metadata": {},
     "output_type": "execute_result"
    }
   ],
   "source": [
    "df9 = df8.idxmax()\n",
    "df9"
   ]
  },
  {
   "cell_type": "code",
   "execution_count": 5,
   "id": "efafeb86-6206-4d96-804f-79ed1ccfff23",
   "metadata": {
    "collapsed": true,
    "jupyter": {
     "outputs_hidden": true
    },
    "tags": []
   },
   "outputs": [
    {
     "data": {
      "text/plain": [
       "United-States         7171\n",
       "?                      146\n",
       "Philippines             61\n",
       "Germany                 44\n",
       "India                   40\n",
       "Canada                  39\n",
       "Mexico                  33\n",
       "England                 30\n",
       "Italy                   25\n",
       "Cuba                    25\n",
       "Japan                   24\n",
       "Taiwan                  20\n",
       "China                   20\n",
       "Iran                    18\n",
       "South                   16\n",
       "Puerto-Rico             12\n",
       "Poland                  12\n",
       "France                  12\n",
       "Jamaica                 10\n",
       "El-Salvador              9\n",
       "Greece                   8\n",
       "Cambodia                 7\n",
       "Hong                     6\n",
       "Yugoslavia               6\n",
       "Ireland                  5\n",
       "Vietnam                  5\n",
       "Portugal                 4\n",
       "Haiti                    4\n",
       "Ecuador                  4\n",
       "Thailand                 3\n",
       "Hungary                  3\n",
       "Guatemala                3\n",
       "Scotland                 3\n",
       "Nicaragua                2\n",
       "Trinadad&Tobago          2\n",
       "Laos                     2\n",
       "Columbia                 2\n",
       "Dominican-Republic       2\n",
       "Peru                     2\n",
       "Honduras                 1\n",
       "Name: native-country, dtype: int64"
      ]
     },
     "execution_count": 5,
     "metadata": {},
     "output_type": "execute_result"
    }
   ],
   "source": [
    "df3 = df.loc[(df['salary'] == '>50K')]\n",
    "df4 = df3['native-country'].value_counts()\n",
    "#df5 = df1['native-country'].value_counts()[0]\n",
    "df4"
   ]
  },
  {
   "cell_type": "code",
   "execution_count": 6,
   "id": "acc5e347-b085-4a91-9fa4-713cb2026253",
   "metadata": {
    "collapsed": true,
    "jupyter": {
     "outputs_hidden": true
    },
    "tags": []
   },
   "outputs": [
    {
     "data": {
      "text/plain": [
       "United-States                 21999\n",
       "Mexico                          610\n",
       "?                               437\n",
       "Philippines                     137\n",
       "Puerto-Rico                     102\n",
       "El-Salvador                      97\n",
       "Germany                          93\n",
       "Canada                           82\n",
       "Jamaica                          71\n",
       "Cuba                             70\n",
       "Dominican-Republic               68\n",
       "South                            64\n",
       "Vietnam                          62\n",
       "Guatemala                        61\n",
       "India                            60\n",
       "England                          60\n",
       "Columbia                         57\n",
       "China                            55\n",
       "Poland                           48\n",
       "Italy                            48\n",
       "Haiti                            40\n",
       "Japan                            38\n",
       "Portugal                         33\n",
       "Nicaragua                        32\n",
       "Taiwan                           31\n",
       "Peru                             29\n",
       "Iran                             25\n",
       "Ecuador                          24\n",
       "Greece                           21\n",
       "Ireland                          19\n",
       "Trinadad&Tobago                  17\n",
       "France                           17\n",
       "Laos                             16\n",
       "Thailand                         15\n",
       "Hong                             14\n",
       "Outlying-US(Guam-USVI-etc)       14\n",
       "Cambodia                         12\n",
       "Honduras                         12\n",
       "Yugoslavia                       10\n",
       "Hungary                          10\n",
       "Scotland                          9\n",
       "Holand-Netherlands                1\n",
       "Name: native-country, dtype: int64"
      ]
     },
     "execution_count": 6,
     "metadata": {},
     "output_type": "execute_result"
    }
   ],
   "source": [
    "df5 = df.loc[(df['salary'] == '<=50K')]\n",
    "df6 = df5['native-country'].value_counts()\n",
    "df6"
   ]
  },
  {
   "cell_type": "code",
   "execution_count": 38,
   "id": "828b2a62-551f-4503-a10a-7366e51520df",
   "metadata": {
    "collapsed": true,
    "jupyter": {
     "outputs_hidden": true,
     "source_hidden": true
    },
    "tags": []
   },
   "outputs": [
    {
     "data": {
      "text/plain": [
       "'Prof-specialty'"
      ]
     },
     "execution_count": 38,
     "metadata": {},
     "output_type": "execute_result"
    }
   ],
   "source": [
    "df6 = df1[df1['native-country'] == 'India']\n",
    "df7 = df6['occupation'].value_counts().index.tolist()[0]\n",
    "df7"
   ]
  },
  {
   "cell_type": "code",
   "execution_count": 66,
   "id": "fc3c96eb-83ad-48e2-8592-6df7f9186396",
   "metadata": {},
   "outputs": [
    {
     "data": {
      "text/plain": [
       "20"
      ]
     },
     "execution_count": 66,
     "metadata": {},
     "output_type": "execute_result"
    }
   ],
   "source": [
    "num_min_workers = (df[(df['hours-per-week'] == 1)].shape[0])\n",
    "num_min_workers"
   ]
  },
  {
   "cell_type": "code",
   "execution_count": 19,
   "id": "08bb0025-e616-4cca-9988-423fdf9834ba",
   "metadata": {
    "tags": []
   },
   "outputs": [
    {
     "data": {
      "text/plain": [
       "7841"
      ]
     },
     "execution_count": 19,
     "metadata": {},
     "output_type": "execute_result"
    }
   ],
   "source": [
    "df25 = df.loc[(df['salary'] == '>50K')].shape[0]\n",
    "df25"
   ]
  },
  {
   "cell_type": "code",
   "execution_count": 21,
   "id": "8ba7de49-4931-4820-84c8-c1c181d8174d",
   "metadata": {
    "tags": []
   },
   "outputs": [
    {
     "data": {
      "text/plain": [
       "7491"
      ]
     },
     "execution_count": 21,
     "metadata": {},
     "output_type": "execute_result"
    }
   ],
   "source": [
    "bach = df.loc[(df['education'] == 'Bachelors') | (df['education'] =='Masters') | (df['education'] =='Doctorate')].shape[0]\n",
    "bach"
   ]
  },
  {
   "cell_type": "code",
   "execution_count": 17,
   "id": "7c39df32-aafd-4ad4-b1c1-54503f4a5cb2",
   "metadata": {},
   "outputs": [
    {
     "data": {
      "text/plain": [
       "4355"
      ]
     },
     "execution_count": 17,
     "metadata": {},
     "output_type": "execute_result"
    }
   ],
   "source": [
    "df1 = (df[(~df.education.isin(['Bachelors','Masters',  'Doctorate'])) & (df.salary == '>50K')]).shape[0]\n",
    "df1"
   ]
  },
  {
   "cell_type": "code",
   "execution_count": 22,
   "id": "bd9073d5-8abd-47b5-a4e9-edb45c69b432",
   "metadata": {},
   "outputs": [
    {
     "data": {
      "text/plain": [
       "3486"
      ]
     },
     "execution_count": 22,
     "metadata": {},
     "output_type": "execute_result"
    }
   ],
   "source": [
    "drc = (df[(df.education.isin(['Bachelors','Masters',  'Doctorate'])) & (df.salary == '>50K')].shape[0])\n",
    "drc"
   ]
  },
  {
   "cell_type": "code",
   "execution_count": 8,
   "id": "70d017a0-99b4-4987-9d93-1a694d71dbd8",
   "metadata": {},
   "outputs": [
    {
     "data": {
      "text/plain": [
       "3486"
      ]
     },
     "execution_count": 8,
     "metadata": {},
     "output_type": "execute_result"
    }
   ],
   "source": [
    "higher_education = (df[(df.education.isin(['Bachelors','Masters',  'Doctorate'])) & (df.salary == '>50K')].shape[0])\n",
    "higher_education"
   ]
  },
  {
   "cell_type": "code",
   "execution_count": 23,
   "id": "9a54be64-0610-4caa-94a8-a87a284edc06",
   "metadata": {},
   "outputs": [
    {
     "data": {
      "text/plain": [
       "46.5"
      ]
     },
     "execution_count": 23,
     "metadata": {},
     "output_type": "execute_result"
    }
   ],
   "source": [
    "ss = round((drc/bach * 100), 1)\n",
    "ss"
   ]
  },
  {
   "cell_type": "code",
   "execution_count": 74,
   "id": "db1669c0-5bdf-48fc-8670-d334c220d8c6",
   "metadata": {},
   "outputs": [
    {
     "data": {
      "text/plain": [
       "4355"
      ]
     },
     "execution_count": 74,
     "metadata": {},
     "output_type": "execute_result"
    }
   ],
   "source": [
    "df3 = (df[(~df.education.isin(['Bachelors','Masters',  'Doctorate'])) & (df.salary == '>50K')].shape[0])\n",
    "df3"
   ]
  },
  {
   "cell_type": "code",
   "execution_count": 85,
   "id": "fe5fb7b9-2c9b-4562-b5eb-9259d8e97588",
   "metadata": {},
   "outputs": [],
   "source": [
    "import pandas as pd\n",
    "\n",
    "\n",
    "def calculate_demographic_data(print_data=True):\n",
    "    # Read data from file\n",
    "    df = pd.read_csv(r'../demographic analyzer/adult.data.csv')\n",
    "\n",
    "    # How many of each race are represented in this dataset? This should be a Pandas series with race names as the index labels.\n",
    "    race_count = df['race'].value_counts()\n",
    "\n",
    "    # What is the average age of men?\n",
    "    average_age_men = men.loc[df['sex'] == 'Male', 'age'].mean()\n",
    "\n",
    "    # What is the percentage of people who have a Bachelor's degree?\n",
    "    percentage_bachelors = round((((df.loc[df['education'] == 'Bachelors'].shape[0]) / (df.shape[0]))* 100), 1)\n",
    "\n",
    "    # What percentage of people with advanced education (`Bachelors`, `Masters`, or `Doctorate`) make more than 50K?\n",
    "    # What percentage of people without advanced education make more than 50K?\n",
    "\n",
    "    # with and without `Bachelors`, `Masters`, or `Doctorate`\n",
    "    df1 = df.loc[(df['education'] == 'Bachelors') | (df['education'] =='Masters') | (df['education'] =='Doctorate')].shape[0]\n",
    "    df2 = df.loc[(df['salary'] == '<=50K')].shape[0]\n",
    "    higher_education = (df[(df.education.isin(['Bachelors','Masters',  'Doctorate'])) & (df.salary == '>50K')].shape[0])\n",
    "    lower_education = (df[(~df.education.isin(['Bachelors','Masters',  'Doctorate'])) & (df.salary == '>50K')].shape[0])\n",
    "\n",
    "    # percentage with salary >50K\n",
    "    higher_education_rich = round((higher_education / df1 * 100), 1)\n",
    "    lower_education_rich = round((lower_education / df2 * 100), 1)\n",
    "\n",
    "    # What is the minimum number of hours a person works per week (hours-per-week feature)?\n",
    "    min_work_hours = df['hours-per-week'].min()\n",
    "\n",
    "    # What percentage of the people who work the minimum number of hours per week have a salary of >50K?\n",
    "    num_min_workers = (df[(df['hours-per-week'] == 1)]).shape[0]\n",
    "\n",
    "    rich_percentage = round((num_min_workers / df[(df['hours-per-week'] == 1) & (df.salary == '>50K')].shape[0]), 1)\n",
    "\n",
    "    # What country has the highest percentage of people that earn >50K?\n",
    "    df3 = df.loc[(df['salary'] == '>50K')]\n",
    "    highest_earning_country = df1['native-country'].value_counts().index.tolist()[0]\n",
    "    highest_earning_country_percentage = round((df1['native-country'].value_counts()[0] / df1.shape[0]) *100, 1)\n",
    "\n",
    "    # Identify the most popular occupation for those who earn >50K in India.\n",
    "    df4 = df3[df3['native-country'] == 'India']\n",
    "    top_IN_occupation = df4['occupation'].value_counts().index.tolist()[0]"
   ]
  },
  {
   "cell_type": "code",
   "execution_count": 87,
   "id": "13c9068e-c29b-4070-9acb-e4a80e564352",
   "metadata": {},
   "outputs": [
    {
     "ename": "NameError",
     "evalue": "name 'print_data' is not defined",
     "output_type": "error",
     "traceback": [
      "\u001b[1;31m---------------------------------------------------------------------------\u001b[0m",
      "\u001b[1;31mNameError\u001b[0m                                 Traceback (most recent call last)",
      "\u001b[1;32mC:\\Users\\ADMINI~1\\AppData\\Local\\Temp/ipykernel_7496/1800634771.py\u001b[0m in \u001b[0;36m<module>\u001b[1;34m\u001b[0m\n\u001b[1;32m----> 1\u001b[1;33m \u001b[1;32mif\u001b[0m \u001b[0mprint_data\u001b[0m\u001b[1;33m:\u001b[0m\u001b[1;33m\u001b[0m\u001b[1;33m\u001b[0m\u001b[0m\n\u001b[0m\u001b[0;32m      2\u001b[0m     \u001b[0mprint\u001b[0m\u001b[1;33m(\u001b[0m\u001b[1;34m\"Number of each race:\\n\"\u001b[0m\u001b[1;33m,\u001b[0m \u001b[0mrace_count\u001b[0m\u001b[1;33m)\u001b[0m\u001b[1;33m\u001b[0m\u001b[1;33m\u001b[0m\u001b[0m\n\u001b[0;32m      3\u001b[0m     \u001b[0mprint\u001b[0m\u001b[1;33m(\u001b[0m\u001b[1;34m\"Average age of men:\"\u001b[0m\u001b[1;33m,\u001b[0m \u001b[0maverage_age_men\u001b[0m\u001b[1;33m)\u001b[0m\u001b[1;33m\u001b[0m\u001b[1;33m\u001b[0m\u001b[0m\n\u001b[0;32m      4\u001b[0m     \u001b[0mprint\u001b[0m\u001b[1;33m(\u001b[0m\u001b[1;34mf\"Percentage with Bachelors degrees: {percentage_bachelors}%\"\u001b[0m\u001b[1;33m)\u001b[0m\u001b[1;33m\u001b[0m\u001b[1;33m\u001b[0m\u001b[0m\n\u001b[0;32m      5\u001b[0m     \u001b[0mprint\u001b[0m\u001b[1;33m(\u001b[0m\u001b[1;34mf\"Percentage with higher education that earn >50K: {higher_education_rich}%\"\u001b[0m\u001b[1;33m)\u001b[0m\u001b[1;33m\u001b[0m\u001b[1;33m\u001b[0m\u001b[0m\n",
      "\u001b[1;31mNameError\u001b[0m: name 'print_data' is not defined"
     ]
    }
   ],
   "source": [
    "\n",
    "if print_data:\n",
    "    print(\"Number of each race:\\n\", race_count) \n",
    "    print(\"Average age of men:\", average_age_men)\n",
    "    print(f\"Percentage with Bachelors degrees: {percentage_bachelors}%\")\n",
    "    print(f\"Percentage with higher education that earn >50K: {higher_education_rich}%\")\n",
    "    print(f\"Percentage without higher education that earn >50K: {lower_education_rich}%\")\n",
    "    print(f\"Min work time: {min_work_hours} hours/week\")\n",
    "    print(f\"Percentage of rich among those who work fewest hours: {rich_percentage}%\")\n",
    "    #print(\"Country with highest percentage of rich:\", highest_earning_country)\n",
    "    #print(f\"Highest percentage of rich people in country: {highest_earning_country_percentage}%\")\n",
    "    #print(\"Top occupations in India:\", top_IN_occupation)\n",
    "\n",
    "return {\n",
    "    'race_count': race_count,\n",
    "    'average_age_men': average_age_men,\n",
    "    'percentage_bachelors': percentage_bachelors,\n",
    "    'higher_education_rich': higher_education_rich,\n",
    "    'lower_education_rich': lower_education_rich,\n",
    "    'min_work_hours': min_work_hours,\n",
    "    'rich_percentage': rich_percentage,\n",
    "    'highest_earning_country': highest_earning_country\n",
    "    #'highest_earning_country_percentage': highest_earning_country_percentage,\n",
    "    #'top_IN_occupation': top_IN_occupation\n",
    "    }\n"
   ]
  }
 ],
 "metadata": {
  "kernelspec": {
   "display_name": "Python 3 (ipykernel)",
   "language": "python",
   "name": "python3"
  },
  "language_info": {
   "codemirror_mode": {
    "name": "ipython",
    "version": 3
   },
   "file_extension": ".py",
   "mimetype": "text/x-python",
   "name": "python",
   "nbconvert_exporter": "python",
   "pygments_lexer": "ipython3",
   "version": "3.8.10"
  }
 },
 "nbformat": 4,
 "nbformat_minor": 5
}
