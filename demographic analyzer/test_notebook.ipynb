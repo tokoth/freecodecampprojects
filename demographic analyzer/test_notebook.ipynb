{
 "cells": [
  {
   "cell_type": "code",
   "execution_count": 1,
   "id": "aacb71fa-96e4-446a-8e17-80b50e1e3d81",
   "metadata": {},
   "outputs": [],
   "source": [
    "import pandas as pd"
   ]
  },
  {
   "cell_type": "code",
   "execution_count": 2,
   "id": "e0110bb7-d7df-4036-b437-404f15395ca2",
   "metadata": {},
   "outputs": [
    {
     "data": {
      "text/html": [
       "<div>\n",
       "<style scoped>\n",
       "    .dataframe tbody tr th:only-of-type {\n",
       "        vertical-align: middle;\n",
       "    }\n",
       "\n",
       "    .dataframe tbody tr th {\n",
       "        vertical-align: top;\n",
       "    }\n",
       "\n",
       "    .dataframe thead th {\n",
       "        text-align: right;\n",
       "    }\n",
       "</style>\n",
       "<table border=\"1\" class=\"dataframe\">\n",
       "  <thead>\n",
       "    <tr style=\"text-align: right;\">\n",
       "      <th></th>\n",
       "      <th>age</th>\n",
       "      <th>workclass</th>\n",
       "      <th>fnlwgt</th>\n",
       "      <th>education</th>\n",
       "      <th>education-num</th>\n",
       "      <th>marital-status</th>\n",
       "      <th>occupation</th>\n",
       "      <th>relationship</th>\n",
       "      <th>race</th>\n",
       "      <th>sex</th>\n",
       "      <th>capital-gain</th>\n",
       "      <th>capital-loss</th>\n",
       "      <th>hours-per-week</th>\n",
       "      <th>native-country</th>\n",
       "      <th>salary</th>\n",
       "    </tr>\n",
       "  </thead>\n",
       "  <tbody>\n",
       "    <tr>\n",
       "      <th>0</th>\n",
       "      <td>39</td>\n",
       "      <td>State-gov</td>\n",
       "      <td>77516</td>\n",
       "      <td>Bachelors</td>\n",
       "      <td>13</td>\n",
       "      <td>Never-married</td>\n",
       "      <td>Adm-clerical</td>\n",
       "      <td>Not-in-family</td>\n",
       "      <td>White</td>\n",
       "      <td>Male</td>\n",
       "      <td>2174</td>\n",
       "      <td>0</td>\n",
       "      <td>40</td>\n",
       "      <td>United-States</td>\n",
       "      <td>&lt;=50K</td>\n",
       "    </tr>\n",
       "    <tr>\n",
       "      <th>1</th>\n",
       "      <td>50</td>\n",
       "      <td>Self-emp-not-inc</td>\n",
       "      <td>83311</td>\n",
       "      <td>Bachelors</td>\n",
       "      <td>13</td>\n",
       "      <td>Married-civ-spouse</td>\n",
       "      <td>Exec-managerial</td>\n",
       "      <td>Husband</td>\n",
       "      <td>White</td>\n",
       "      <td>Male</td>\n",
       "      <td>0</td>\n",
       "      <td>0</td>\n",
       "      <td>13</td>\n",
       "      <td>United-States</td>\n",
       "      <td>&lt;=50K</td>\n",
       "    </tr>\n",
       "    <tr>\n",
       "      <th>2</th>\n",
       "      <td>38</td>\n",
       "      <td>Private</td>\n",
       "      <td>215646</td>\n",
       "      <td>HS-grad</td>\n",
       "      <td>9</td>\n",
       "      <td>Divorced</td>\n",
       "      <td>Handlers-cleaners</td>\n",
       "      <td>Not-in-family</td>\n",
       "      <td>White</td>\n",
       "      <td>Male</td>\n",
       "      <td>0</td>\n",
       "      <td>0</td>\n",
       "      <td>40</td>\n",
       "      <td>United-States</td>\n",
       "      <td>&lt;=50K</td>\n",
       "    </tr>\n",
       "    <tr>\n",
       "      <th>3</th>\n",
       "      <td>53</td>\n",
       "      <td>Private</td>\n",
       "      <td>234721</td>\n",
       "      <td>11th</td>\n",
       "      <td>7</td>\n",
       "      <td>Married-civ-spouse</td>\n",
       "      <td>Handlers-cleaners</td>\n",
       "      <td>Husband</td>\n",
       "      <td>Black</td>\n",
       "      <td>Male</td>\n",
       "      <td>0</td>\n",
       "      <td>0</td>\n",
       "      <td>40</td>\n",
       "      <td>United-States</td>\n",
       "      <td>&lt;=50K</td>\n",
       "    </tr>\n",
       "    <tr>\n",
       "      <th>4</th>\n",
       "      <td>28</td>\n",
       "      <td>Private</td>\n",
       "      <td>338409</td>\n",
       "      <td>Bachelors</td>\n",
       "      <td>13</td>\n",
       "      <td>Married-civ-spouse</td>\n",
       "      <td>Prof-specialty</td>\n",
       "      <td>Wife</td>\n",
       "      <td>Black</td>\n",
       "      <td>Female</td>\n",
       "      <td>0</td>\n",
       "      <td>0</td>\n",
       "      <td>40</td>\n",
       "      <td>Cuba</td>\n",
       "      <td>&lt;=50K</td>\n",
       "    </tr>\n",
       "  </tbody>\n",
       "</table>\n",
       "</div>"
      ],
      "text/plain": [
       "   age         workclass  fnlwgt  education  education-num  \\\n",
       "0   39         State-gov   77516  Bachelors             13   \n",
       "1   50  Self-emp-not-inc   83311  Bachelors             13   \n",
       "2   38           Private  215646    HS-grad              9   \n",
       "3   53           Private  234721       11th              7   \n",
       "4   28           Private  338409  Bachelors             13   \n",
       "\n",
       "       marital-status         occupation   relationship   race     sex  \\\n",
       "0       Never-married       Adm-clerical  Not-in-family  White    Male   \n",
       "1  Married-civ-spouse    Exec-managerial        Husband  White    Male   \n",
       "2            Divorced  Handlers-cleaners  Not-in-family  White    Male   \n",
       "3  Married-civ-spouse  Handlers-cleaners        Husband  Black    Male   \n",
       "4  Married-civ-spouse     Prof-specialty           Wife  Black  Female   \n",
       "\n",
       "   capital-gain  capital-loss  hours-per-week native-country salary  \n",
       "0          2174             0              40  United-States  <=50K  \n",
       "1             0             0              13  United-States  <=50K  \n",
       "2             0             0              40  United-States  <=50K  \n",
       "3             0             0              40  United-States  <=50K  \n",
       "4             0             0              40           Cuba  <=50K  "
      ]
     },
     "execution_count": 2,
     "metadata": {},
     "output_type": "execute_result"
    }
   ],
   "source": [
    "df = pd.read_csv(r'./adult.data.csv')\n",
    "df.head()"
   ]
  },
  {
   "cell_type": "code",
   "execution_count": null,
   "id": "efafeb86-6206-4d96-804f-79ed1ccfff23",
   "metadata": {},
   "outputs": [],
   "source": [
    "df4 = df1['native-country'].value_counts().index.tolist()[0]\n",
    "#df5 = df1['native-country'].value_counts()[0]\n",
    "df4"
   ]
  },
  {
   "cell_type": "code",
   "execution_count": 38,
   "id": "828b2a62-551f-4503-a10a-7366e51520df",
   "metadata": {},
   "outputs": [
    {
     "data": {
      "text/plain": [
       "'Prof-specialty'"
      ]
     },
     "execution_count": 38,
     "metadata": {},
     "output_type": "execute_result"
    }
   ],
   "source": [
    "df6 = df1[df1['native-country'] == 'India']\n",
    "df7 = df6['occupation'].value_counts().index.tolist()[0]\n",
    "df7"
   ]
  },
  {
   "cell_type": "code",
   "execution_count": 66,
   "id": "fc3c96eb-83ad-48e2-8592-6df7f9186396",
   "metadata": {},
   "outputs": [
    {
     "data": {
      "text/plain": [
       "20"
      ]
     },
     "execution_count": 66,
     "metadata": {},
     "output_type": "execute_result"
    }
   ],
   "source": [
    "num_min_workers = (df[(df['hours-per-week'] == 1)].shape[0])\n",
    "num_min_workers"
   ]
  },
  {
   "cell_type": "code",
   "execution_count": 19,
   "id": "08bb0025-e616-4cca-9988-423fdf9834ba",
   "metadata": {
    "tags": []
   },
   "outputs": [
    {
     "data": {
      "text/plain": [
       "7841"
      ]
     },
     "execution_count": 19,
     "metadata": {},
     "output_type": "execute_result"
    }
   ],
   "source": [
    "df25 = df.loc[(df['salary'] == '>50K')].shape[0]\n",
    "df25"
   ]
  },
  {
   "cell_type": "code",
   "execution_count": 21,
   "id": "8ba7de49-4931-4820-84c8-c1c181d8174d",
   "metadata": {
    "tags": []
   },
   "outputs": [
    {
     "data": {
      "text/plain": [
       "7491"
      ]
     },
     "execution_count": 21,
     "metadata": {},
     "output_type": "execute_result"
    }
   ],
   "source": [
    "bach = df.loc[(df['education'] == 'Bachelors') | (df['education'] =='Masters') | (df['education'] =='Doctorate')].shape[0]\n",
    "bach"
   ]
  },
  {
   "cell_type": "code",
   "execution_count": 17,
   "id": "7c39df32-aafd-4ad4-b1c1-54503f4a5cb2",
   "metadata": {},
   "outputs": [
    {
     "data": {
      "text/plain": [
       "4355"
      ]
     },
     "execution_count": 17,
     "metadata": {},
     "output_type": "execute_result"
    }
   ],
   "source": [
    "df1 = (df[(~df.education.isin(['Bachelors','Masters',  'Doctorate'])) & (df.salary == '>50K')]).shape[0]\n",
    "df1"
   ]
  },
  {
   "cell_type": "code",
   "execution_count": 22,
   "id": "bd9073d5-8abd-47b5-a4e9-edb45c69b432",
   "metadata": {},
   "outputs": [
    {
     "data": {
      "text/plain": [
       "3486"
      ]
     },
     "execution_count": 22,
     "metadata": {},
     "output_type": "execute_result"
    }
   ],
   "source": [
    "drc = (df[(df.education.isin(['Bachelors','Masters',  'Doctorate'])) & (df.salary == '>50K')].shape[0])\n",
    "drc"
   ]
  },
  {
   "cell_type": "code",
   "execution_count": 8,
   "id": "70d017a0-99b4-4987-9d93-1a694d71dbd8",
   "metadata": {},
   "outputs": [
    {
     "data": {
      "text/plain": [
       "3486"
      ]
     },
     "execution_count": 8,
     "metadata": {},
     "output_type": "execute_result"
    }
   ],
   "source": [
    "higher_education = (df[(df.education.isin(['Bachelors','Masters',  'Doctorate'])) & (df.salary == '>50K')].shape[0])\n",
    "higher_education"
   ]
  },
  {
   "cell_type": "code",
   "execution_count": 23,
   "id": "9a54be64-0610-4caa-94a8-a87a284edc06",
   "metadata": {},
   "outputs": [
    {
     "data": {
      "text/plain": [
       "46.5"
      ]
     },
     "execution_count": 23,
     "metadata": {},
     "output_type": "execute_result"
    }
   ],
   "source": [
    "ss = round((drc/bach * 100), 1)\n",
    "ss"
   ]
  },
  {
   "cell_type": "code",
   "execution_count": 74,
   "id": "db1669c0-5bdf-48fc-8670-d334c220d8c6",
   "metadata": {},
   "outputs": [
    {
     "data": {
      "text/plain": [
       "4355"
      ]
     },
     "execution_count": 74,
     "metadata": {},
     "output_type": "execute_result"
    }
   ],
   "source": [
    "df3 = (df[(~df.education.isin(['Bachelors','Masters',  'Doctorate'])) & (df.salary == '>50K')].shape[0])\n",
    "df3"
   ]
  },
  {
   "cell_type": "code",
   "execution_count": 85,
   "id": "fe5fb7b9-2c9b-4562-b5eb-9259d8e97588",
   "metadata": {},
   "outputs": [],
   "source": [
    "import pandas as pd\n",
    "\n",
    "\n",
    "def calculate_demographic_data(print_data=True):\n",
    "    # Read data from file\n",
    "    df = pd.read_csv(r'../demographic analyzer/adult.data.csv')\n",
    "\n",
    "    # How many of each race are represented in this dataset? This should be a Pandas series with race names as the index labels.\n",
    "    race_count = df['race'].value_counts()\n",
    "\n",
    "    # What is the average age of men?\n",
    "    average_age_men = men.loc[df['sex'] == 'Male', 'age'].mean()\n",
    "\n",
    "    # What is the percentage of people who have a Bachelor's degree?\n",
    "    percentage_bachelors = round((((df.loc[df['education'] == 'Bachelors'].shape[0]) / (df.shape[0]))* 100), 1)\n",
    "\n",
    "    # What percentage of people with advanced education (`Bachelors`, `Masters`, or `Doctorate`) make more than 50K?\n",
    "    # What percentage of people without advanced education make more than 50K?\n",
    "\n",
    "    # with and without `Bachelors`, `Masters`, or `Doctorate`\n",
    "    df1 = df.loc[(df['education'] == 'Bachelors') | (df['education'] =='Masters') | (df['education'] =='Doctorate')].shape[0]\n",
    "    df2 = df.loc[(df['salary'] == '<=50K')].shape[0]\n",
    "    higher_education = (df[(df.education.isin(['Bachelors','Masters',  'Doctorate'])) & (df.salary == '>50K')].shape[0])\n",
    "    lower_education = (df[(~df.education.isin(['Bachelors','Masters',  'Doctorate'])) & (df.salary == '>50K')].shape[0])\n",
    "\n",
    "    # percentage with salary >50K\n",
    "    higher_education_rich = round((higher_education / df1 * 100), 1)\n",
    "    lower_education_rich = round((lower_education / df2 * 100), 1)\n",
    "\n",
    "    # What is the minimum number of hours a person works per week (hours-per-week feature)?\n",
    "    min_work_hours = df['hours-per-week'].min()\n",
    "\n",
    "    # What percentage of the people who work the minimum number of hours per week have a salary of >50K?\n",
    "    num_min_workers = (df[(df['hours-per-week'] == 1)]).shape[0]\n",
    "\n",
    "    rich_percentage = round((num_min_workers / df[(df['hours-per-week'] == 1) & (df.salary == '>50K')].shape[0]), 1)\n",
    "\n",
    "    # What country has the highest percentage of people that earn >50K?\n",
    "    df3 = df.loc[(df['salary'] == '>50K')]\n",
    "    highest_earning_country = df1['native-country'].value_counts().index.tolist()[0]\n",
    "    highest_earning_country_percentage = round((df1['native-country'].value_counts()[0] / df1.shape[0]) *100, 1)\n",
    "\n",
    "    # Identify the most popular occupation for those who earn >50K in India.\n",
    "    df4 = df3[df3['native-country'] == 'India']\n",
    "    top_IN_occupation = df4['occupation'].value_counts().index.tolist()[0]"
   ]
  },
  {
   "cell_type": "code",
   "execution_count": 87,
   "id": "13c9068e-c29b-4070-9acb-e4a80e564352",
   "metadata": {},
   "outputs": [
    {
     "ename": "NameError",
     "evalue": "name 'print_data' is not defined",
     "output_type": "error",
     "traceback": [
      "\u001b[1;31m---------------------------------------------------------------------------\u001b[0m",
      "\u001b[1;31mNameError\u001b[0m                                 Traceback (most recent call last)",
      "\u001b[1;32mC:\\Users\\ADMINI~1\\AppData\\Local\\Temp/ipykernel_7496/1800634771.py\u001b[0m in \u001b[0;36m<module>\u001b[1;34m\u001b[0m\n\u001b[1;32m----> 1\u001b[1;33m \u001b[1;32mif\u001b[0m \u001b[0mprint_data\u001b[0m\u001b[1;33m:\u001b[0m\u001b[1;33m\u001b[0m\u001b[1;33m\u001b[0m\u001b[0m\n\u001b[0m\u001b[0;32m      2\u001b[0m     \u001b[0mprint\u001b[0m\u001b[1;33m(\u001b[0m\u001b[1;34m\"Number of each race:\\n\"\u001b[0m\u001b[1;33m,\u001b[0m \u001b[0mrace_count\u001b[0m\u001b[1;33m)\u001b[0m\u001b[1;33m\u001b[0m\u001b[1;33m\u001b[0m\u001b[0m\n\u001b[0;32m      3\u001b[0m     \u001b[0mprint\u001b[0m\u001b[1;33m(\u001b[0m\u001b[1;34m\"Average age of men:\"\u001b[0m\u001b[1;33m,\u001b[0m \u001b[0maverage_age_men\u001b[0m\u001b[1;33m)\u001b[0m\u001b[1;33m\u001b[0m\u001b[1;33m\u001b[0m\u001b[0m\n\u001b[0;32m      4\u001b[0m     \u001b[0mprint\u001b[0m\u001b[1;33m(\u001b[0m\u001b[1;34mf\"Percentage with Bachelors degrees: {percentage_bachelors}%\"\u001b[0m\u001b[1;33m)\u001b[0m\u001b[1;33m\u001b[0m\u001b[1;33m\u001b[0m\u001b[0m\n\u001b[0;32m      5\u001b[0m     \u001b[0mprint\u001b[0m\u001b[1;33m(\u001b[0m\u001b[1;34mf\"Percentage with higher education that earn >50K: {higher_education_rich}%\"\u001b[0m\u001b[1;33m)\u001b[0m\u001b[1;33m\u001b[0m\u001b[1;33m\u001b[0m\u001b[0m\n",
      "\u001b[1;31mNameError\u001b[0m: name 'print_data' is not defined"
     ]
    }
   ],
   "source": [
    "\n",
    "if print_data:\n",
    "    print(\"Number of each race:\\n\", race_count) \n",
    "    print(\"Average age of men:\", average_age_men)\n",
    "    print(f\"Percentage with Bachelors degrees: {percentage_bachelors}%\")\n",
    "    print(f\"Percentage with higher education that earn >50K: {higher_education_rich}%\")\n",
    "    print(f\"Percentage without higher education that earn >50K: {lower_education_rich}%\")\n",
    "    print(f\"Min work time: {min_work_hours} hours/week\")\n",
    "    print(f\"Percentage of rich among those who work fewest hours: {rich_percentage}%\")\n",
    "    #print(\"Country with highest percentage of rich:\", highest_earning_country)\n",
    "    #print(f\"Highest percentage of rich people in country: {highest_earning_country_percentage}%\")\n",
    "    #print(\"Top occupations in India:\", top_IN_occupation)\n",
    "\n",
    "return {\n",
    "    'race_count': race_count,\n",
    "    'average_age_men': average_age_men,\n",
    "    'percentage_bachelors': percentage_bachelors,\n",
    "    'higher_education_rich': higher_education_rich,\n",
    "    'lower_education_rich': lower_education_rich,\n",
    "    'min_work_hours': min_work_hours,\n",
    "    'rich_percentage': rich_percentage,\n",
    "    'highest_earning_country': highest_earning_country\n",
    "    #'highest_earning_country_percentage': highest_earning_country_percentage,\n",
    "    #'top_IN_occupation': top_IN_occupation\n",
    "    }\n"
   ]
  }
 ],
 "metadata": {
  "kernelspec": {
   "display_name": "Python 3 (ipykernel)",
   "language": "python",
   "name": "python3"
  },
  "language_info": {
   "codemirror_mode": {
    "name": "ipython",
    "version": 3
   },
   "file_extension": ".py",
   "mimetype": "text/x-python",
   "name": "python",
   "nbconvert_exporter": "python",
   "pygments_lexer": "ipython3",
   "version": "3.8.10"
  }
 },
 "nbformat": 4,
 "nbformat_minor": 5
}
